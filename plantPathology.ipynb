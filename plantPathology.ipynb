{
 "cells": [
  {
   "cell_type": "code",
   "execution_count": null,
   "metadata": {},
   "outputs": [],
   "source": [
    "# Import packages\n",
    "\n",
    "from keras.preprocessing.image import ImageDataGenerator  \n",
    "from keras.layers import (\n",
    "    GlobalAveragePooling2D, Multiply, Flatten,\n",
    "     Dense, Dropout, Conv2D, BatchNormalization, MaxPooling2D)\n",
    "from keras.layers.experimental.preprocessing import Resizing\n",
    "from keras.callbacks import EarlyStopping\n",
    "from keras.optimizers import Adam\n",
    "from keras import Sequential, Model\n",
    "\n",
    "from sklearn.metrics import confusion_matrix, accuracy_score, precision_score, recall_score, f1_score\n",
    "import pandas as pd\n",
    "from keras.preprocessing import image\n",
    "from keras.applications.vgg16 import preprocess_input\n",
    "from seaborn import heatmap"
   ]
  },
  {
   "cell_type": "code",
   "execution_count": null,
   "metadata": {},
   "outputs": [],
   "source": [
    "# Folder containing the images\n",
    "\n",
    "baseDirName = \"C:\\Users\\fdomu\\Desktop\\TechLabs\\What street art\\st21-what-street-art\\images\\streetArtCitiesBerlin\""
   ]
  },
  {
   "cell_type": "markdown",
   "metadata": {},
   "source": [
    "Lo siguiente quizá no funciona porque voy a necesitar multiplicar las imágenes antes de hacer este proceso. "
   ]
  },
  {
   "cell_type": "code",
   "execution_count": null,
   "metadata": {},
   "outputs": [],
   "source": [
    "# We create a data generator which will rescale the images and divide the corpus into validation and training\n",
    "\n",
    "datagen = ImageDataGenerator(\n",
    "    rescale = 1./255,\n",
    "    validation_split = 0.33\n",
    ")\n",
    "\n",
    "train_generator = datagen.flow_from_directory(baseDirName, subset = 'training',\n",
    "                                              shuffle = True)\n",
    "val_generator = datagen.flow_from_directory(baseDirName, subset = 'validation',\n",
    "                                            shuffle = False)"
   ]
  },
  {
   "cell_type": "code",
   "execution_count": null,
   "metadata": {},
   "outputs": [],
   "source": []
  }
 ],
 "metadata": {
  "kernelspec": {
   "display_name": "Python 3",
   "language": "python",
   "name": "python3"
  },
  "language_info": {
   "codemirror_mode": {
    "name": "ipython",
    "version": 3
   },
   "file_extension": ".py",
   "mimetype": "text/x-python",
   "name": "python",
   "nbconvert_exporter": "python",
   "pygments_lexer": "ipython3",
   "version": "3.8.5"
  }
 },
 "nbformat": 4,
 "nbformat_minor": 4
}
